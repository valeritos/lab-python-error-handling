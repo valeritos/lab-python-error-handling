{
 "cells": [
  {
   "cell_type": "markdown",
   "id": "25d7736c-ba17-4aff-b6bb-66eba20fbf4e",
   "metadata": {},
   "source": [
    "# Lab | Error Handling"
   ]
  },
  {
   "cell_type": "markdown",
   "id": "bc99b386-7508-47a0-bcdb-d969deaf6c8b",
   "metadata": {},
   "source": [
    "## Exercise: Error Handling for Managing Customer Orders\n",
    "\n",
    "The implementation of your code for managing customer orders assumes that the user will always enter a valid input. \n",
    "\n",
    "For example, we could modify the `initialize_inventory` function to include error handling.\n",
    "   - If the user enters an invalid quantity (e.g., a negative value or a non-numeric value), display an error message and ask them to re-enter the quantity for that product.\n",
    "   - Use a try-except block to handle the error and continue prompting the user until a valid quantity is entered.\n",
    "\n",
    "```python\n",
    "# Step 1: Define the function for initializing the inventory with error handling\n",
    "def initialize_inventory(products):\n",
    "    inventory = {}\n",
    "    for product in products:\n",
    "        valid_quantity = False\n",
    "        while not valid_quantity:\n",
    "            try:\n",
    "                quantity = int(input(f\"Enter the quantity of {product}s available: \"))\n",
    "                if quantity < 0:\n",
    "                    raise ValueError(\"Invalid quantity! Please enter a non-negative value.\")\n",
    "                valid_quantity = True\n",
    "            except ValueError as error:\n",
    "                print(f\"Error: {error}\")\n",
    "        inventory[product] = quantity\n",
    "    return inventory\n",
    "\n",
    "# Or, in another way:\n",
    "\n",
    "def initialize_inventory(products):\n",
    "    inventory = {}\n",
    "    for product in products:\n",
    "        valid_input = False\n",
    "        while not valid_input:\n",
    "            try:\n",
    "                quantity = int(input(f\"Enter the quantity of {product}s available: \"))\n",
    "                if quantity >= 0:\n",
    "                    inventory[product] = quantity\n",
    "                    valid_input = True\n",
    "                else:\n",
    "                    print(\"Quantity cannot be negative. Please enter a valid quantity.\")\n",
    "            except ValueError:\n",
    "                print(\"Invalid input. Please enter a valid quantity.\")\n",
    "    return inventory\n",
    "```\n",
    "\n",
    "Let's enhance your code by implementing error handling to handle invalid inputs.\n",
    "\n",
    "Follow the steps below to complete the exercise:\n",
    "\n",
    "2. Modify the `calculate_total_price` function to include error handling.\n",
    "   - If the user enters an invalid price (e.g., a negative value or a non-numeric value), display an error message and ask them to re-enter the price for that product.\n",
    "   - Use a try-except block to handle the error and continue prompting the user until a valid price is entered.\n",
    "\n",
    "3. Modify the `get_customer_orders` function to include error handling.\n",
    "   - If the user enters an invalid number of orders (e.g., a negative value or a non-numeric value), display an error message and ask them to re-enter the number of orders.\n",
    "   - If the user enters an invalid product name (e.g., a product name that is not in the inventory), or that doesn't have stock available, display an error message and ask them to re-enter the product name. *Hint: you will need to pass inventory as a parameter*\n",
    "   - Use a try-except block to handle the error and continue prompting the user until a valid product name is entered.\n",
    "\n",
    "4. Test your code by running the program and deliberately entering invalid quantities and product names. Make sure the error handling mechanism works as expected.\n"
   ]
  },
  {
   "cell_type": "code",
   "execution_count": 47,
   "id": "dfb9a5b5",
   "metadata": {},
   "outputs": [
    {
     "name": "stdout",
     "output_type": "stream",
     "text": [
      "How many t-shirts are available in the inventory? Please input a whole number.1\n",
      "How many mugs are available in the inventory? Please input a whole number.1\n",
      "How many hats are available in the inventory? Please input a whole number.1\n",
      "How many books are available in the inventory? Please input a whole number.1\n",
      "How many keychains are available in the inventory? Please input a whole number.11\n",
      "We have 5 products available. How many products would you like to order?2\n",
      "Which product would you like to order? Please type one of the following choices: ['t-shirt', 'mug', 'hat', 'book', 'keychain']mug\n",
      "Which product would you like to order? Please type one of the following choices: ['t-shirt', 'mug', 'hat', 'book', 'keychain']hat\n"
     ]
    },
    {
     "data": {
      "text/plain": [
       "{'hat', 'mug'}"
      ]
     },
     "execution_count": 47,
     "metadata": {},
     "output_type": "execute_result"
    }
   ],
   "source": [
    "#1\n",
    "products=[\"t-shirt\", \"mug\", \"hat\", \"book\", \"keychain\"]\n",
    "\n",
    "def initialize_inventory(products):\n",
    "    inventory={product: int(input(f\"How many {product}s are available in the inventory? Please input a whole number.\")) for product in products}\n",
    "    return inventory\n",
    "inventory=initialize_inventory(products)\n",
    "\n",
    "\n",
    "#2\n",
    "\n",
    "def get_customer_orders():\n",
    "    customer_orders=set()\n",
    "    counter=int(input(f\"We have {len(products)} products available. How many products would you like to order?\"))\n",
    "    if counter<=0:\n",
    "        raise ValueError(\"Units ordered cannot be below or equal to zero.\")\n",
    "    else:\n",
    "        counter=range(counter)\n",
    "    for i in counter:\n",
    "        order=str(input(f\"Which product would you like to order? Please type one of the following choices: {products}\")).lower()\n",
    "        if order not in inventory:\n",
    "            raise TypeError(\"Please choose product from provided inventory.\")\n",
    "        else:\n",
    "            customer_orders.add(order)\n",
    "    return customer_orders\n",
    "        \n",
    "customer_orders=get_customer_orders()\n",
    "customer_orders"
   ]
  },
  {
   "cell_type": "code",
   "execution_count": 56,
   "id": "6dd3fc3a",
   "metadata": {},
   "outputs": [
    {
     "name": "stdout",
     "output_type": "stream",
     "text": [
      "Input the price for mug.1\n",
      "Input the price for hat.2\n"
     ]
    },
    {
     "data": {
      "text/plain": [
       "({'mug': 1.0, 'hat': 2.0}, 3.0)"
      ]
     },
     "execution_count": 56,
     "metadata": {},
     "output_type": "execute_result"
    }
   ],
   "source": [
    "#3\n",
    "customer_orders_dict=dict()\n",
    "\n",
    "def price_list(customer_orders):\n",
    "    for order in customer_orders:\n",
    "        price=float(input(f\"Input the price for {order}.\"))\n",
    "        if price<=0:\n",
    "            raise ValueError(\"Prices cannot be below or equal to zero.\")\n",
    "        else:\n",
    "            customer_orders_dict[order]=price\n",
    "    total_order_price=sum(customer_orders_dict.values())\n",
    "    return customer_orders_dict, total_order_price\n",
    "\n",
    "price_list(customer_orders)"
   ]
  },
  {
   "cell_type": "code",
   "execution_count": null,
   "id": "143f0af1",
   "metadata": {},
   "outputs": [],
   "source": []
  }
 ],
 "metadata": {
  "kernelspec": {
   "display_name": "Python 3 (ipykernel)",
   "language": "python",
   "name": "python3"
  },
  "language_info": {
   "codemirror_mode": {
    "name": "ipython",
    "version": 3
   },
   "file_extension": ".py",
   "mimetype": "text/x-python",
   "name": "python",
   "nbconvert_exporter": "python",
   "pygments_lexer": "ipython3",
   "version": "3.11.4"
  }
 },
 "nbformat": 4,
 "nbformat_minor": 5
}
